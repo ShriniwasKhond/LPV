{
  "nbformat": 4,
  "nbformat_minor": 0,
  "metadata": {
    "colab": {
      "provenance": [],
      "gpuType": "T4"
    },
    "kernelspec": {
      "name": "python3",
      "display_name": "Python 3"
    },
    "language_info": {
      "name": "python"
    },
    "accelerator": "GPU"
  },
  "cells": [
    {
      "cell_type": "code",
      "execution_count": 1,
      "metadata": {
        "id": "3Uzm7V5ZIvdf"
      },
      "outputs": [],
      "source": [
        "import numpy as np\n",
        "from numba import cuda"
      ]
    },
    {
      "cell_type": "code",
      "source": [
        "@cuda.jit\n",
        "def vector_add(a, b, c):\n",
        "    tid = cuda.threadIdx.x + cuda.blockIdx.x * cuda.blockDim.x\n",
        "    if tid < len(a):\n",
        "        c[tid] = a[tid] + b[tid]\n"
      ],
      "metadata": {
        "id": "kRq40qHBJF32"
      },
      "execution_count": 2,
      "outputs": []
    },
    {
      "cell_type": "code",
      "source": [
        "size = int(input(\"Enter the size of the vectors: \"))\n",
        "a = np.arange(size)\n",
        "b = 2 * np.arange(size)\n",
        "c = np.zeros(size)\n",
        "\n",
        "threads_per_block = 256\n",
        "blocks_per_grid = (size + threads_per_block - 1) // threads_per_block\n",
        "\n",
        "vector_add[blocks_per_grid, threads_per_block](a, b, c)\n",
        "\n",
        "print(\"Result vector:\")\n",
        "print(c)"
      ],
      "metadata": {
        "colab": {
          "base_uri": "https://localhost:8080/"
        },
        "id": "R50TcWpWJmH8",
        "outputId": "d352b434-abe3-4c41-af48-7e304ecf6938"
      },
      "execution_count": 4,
      "outputs": [
        {
          "name": "stdout",
          "output_type": "stream",
          "text": [
            "Enter the size of the vectors: 12\n"
          ]
        },
        {
          "output_type": "stream",
          "name": "stderr",
          "text": [
            "/usr/local/lib/python3.10/dist-packages/numba/cuda/dispatcher.py:488: NumbaPerformanceWarning: Grid size 1 will likely result in GPU under-utilization due to low occupancy.\n",
            "  warn(NumbaPerformanceWarning(msg))\n"
          ]
        },
        {
          "output_type": "stream",
          "name": "stdout",
          "text": [
            "Result vector:\n",
            "[ 0.  3.  6.  9. 12. 15. 18. 21. 24. 27. 30. 33.]\n"
          ]
        },
        {
          "output_type": "stream",
          "name": "stderr",
          "text": [
            "/usr/local/lib/python3.10/dist-packages/numba/cuda/cudadrv/devicearray.py:885: NumbaPerformanceWarning: Host array used in CUDA kernel will incur copy overhead to/from device.\n",
            "  warn(NumbaPerformanceWarning(msg))\n"
          ]
        }
      ]
    }
  ]
}