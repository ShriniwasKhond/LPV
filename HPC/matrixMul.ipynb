{
  "nbformat": 4,
  "nbformat_minor": 0,
  "metadata": {
    "colab": {
      "provenance": [],
      "gpuType": "T4"
    },
    "kernelspec": {
      "name": "python3",
      "display_name": "Python 3"
    },
    "language_info": {
      "name": "python"
    },
    "accelerator": "GPU"
  },
  "cells": [
    {
      "cell_type": "code",
      "execution_count": 1,
      "metadata": {
        "id": "kexQQ49fLKVe"
      },
      "outputs": [],
      "source": [
        "import numpy as np\n",
        "from numba import cuda"
      ]
    },
    {
      "cell_type": "code",
      "source": [
        "@cuda.jit\n",
        "def matrixMul(A, B, C):\n",
        "    row, col = cuda.grid(2)\n",
        "    if row < N and col < K:\n",
        "        sum_val = 0.0\n",
        "        for i in range(M):\n",
        "            sum_val += A[row, i] * B[i, col]\n",
        "        C[row, col] = sum_val"
      ],
      "metadata": {
        "id": "hQfsrGf_VSjq"
      },
      "execution_count": 2,
      "outputs": []
    },
    {
      "cell_type": "code",
      "source": [
        "size = int(input(\"enter the size of matrix: \"))\n",
        "\n",
        "M = N = K = size\n",
        "\n",
        "# A = np.random.randn(N, M).astype(np.float32)\n",
        "A = np.random.randint(2, size=(N, M)).astype(np.float32)\n",
        "# B = np.random.randn(M, K).astype(np.float32)\n",
        "B = np.random.randint(2, size=(N, M)).astype(np.float32)\n",
        "C = np.zeros((N, K), dtype=np.float32)\n",
        "\n",
        "d_A = cuda.to_device(A)\n",
        "d_B = cuda.to_device(B)\n",
        "d_C = cuda.to_device(C)\n",
        "\n",
        "block_dim = (32, 32)\n",
        "grid_dim = ((N + block_dim[0] - 1) // block_dim[0], (K + block_dim[1] - 1) // block_dim[1])\n",
        "\n",
        "matrixMul[grid_dim, block_dim](d_A, d_B, d_C)\n",
        "\n",
        "C = d_C.copy_to_host()\n",
        "\n",
        "print(C)"
      ],
      "metadata": {
        "colab": {
          "base_uri": "https://localhost:8080/"
        },
        "id": "kv9LAAseVWHF",
        "outputId": "55f9b297-d30d-453b-d71f-eadae20e3eff"
      },
      "execution_count": 3,
      "outputs": [
        {
          "name": "stdout",
          "output_type": "stream",
          "text": [
            "enter the size of matrix: 4\n"
          ]
        },
        {
          "output_type": "stream",
          "name": "stderr",
          "text": [
            "/usr/local/lib/python3.10/dist-packages/numba/cuda/dispatcher.py:488: NumbaPerformanceWarning: Grid size 1 will likely result in GPU under-utilization due to low occupancy.\n",
            "  warn(NumbaPerformanceWarning(msg))\n"
          ]
        },
        {
          "output_type": "stream",
          "name": "stdout",
          "text": [
            "[[1. 1. 1. 3.]\n",
            " [1. 1. 2. 1.]\n",
            " [0. 0. 1. 1.]\n",
            " [2. 2. 1. 2.]]\n"
          ]
        }
      ]
    }
  ]
}